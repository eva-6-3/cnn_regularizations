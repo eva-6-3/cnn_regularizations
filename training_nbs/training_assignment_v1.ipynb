{
 "cells": [
  {
   "cell_type": "code",
   "execution_count": 1,
   "id": "e3ffa619-de40-4aff-98c3-f4c9dc51dd9c",
   "metadata": {},
   "outputs": [],
   "source": [
    "import sys\n",
    "sys.path.append('../')"
   ]
  },
  {
   "cell_type": "code",
   "execution_count": 2,
   "id": "a3729f44-dd5d-46a9-bbc1-da6f41577ba1",
   "metadata": {},
   "outputs": [],
   "source": [
    "from utils.data import MNIST_dataset\n",
    "from utils.misc import (\n",
    "    show_random_images,\n",
    "    get_device,\n",
    "    set_seed,\n",
    "    is_cuda,\n",
    "    show_model_summary,\n",
    ")\n",
    "from utils.model import Net\n",
    "from utils.training import train\n",
    "from utils.testing import test"
   ]
  },
  {
   "cell_type": "code",
   "execution_count": 7,
   "id": "4a7d1541-e38d-42ca-8621-e4697d3d5b06",
   "metadata": {},
   "outputs": [],
   "source": [
    "from torch.optim.lr_scheduler import ReduceLROnPlateau\n",
    "import torch.optim as optim\n",
    "import numpy as np"
   ]
  },
  {
   "cell_type": "markdown",
   "id": "22ba9f1e-694e-4de4-88e1-5368d68a53fe",
   "metadata": {},
   "source": [
    "### Device"
   ]
  },
  {
   "cell_type": "code",
   "execution_count": 3,
   "id": "002d2103-7125-4e68-81c4-5eb2420891d9",
   "metadata": {},
   "outputs": [
    {
     "name": "stdout",
     "output_type": "stream",
     "text": [
      "[INFO] seed set 1\n",
      "[INFO] Cuda Avaliable :  False\n",
      "[INFO] device :  cpu\n"
     ]
    }
   ],
   "source": [
    "set_seed()\n",
    "cuda = is_cuda()\n",
    "device = get_device()"
   ]
  },
  {
   "cell_type": "markdown",
   "id": "5c7048a2-1281-401b-857a-ada83fa4046f",
   "metadata": {},
   "source": [
    "## Data Loader"
   ]
  },
  {
   "cell_type": "code",
   "execution_count": 5,
   "id": "e050f3fe-7795-4162-ba86-7ffee8a5f6a0",
   "metadata": {},
   "outputs": [],
   "source": [
    "# train_loader = MNIST_dataset(\n",
    "#     train=True, cuda=cuda\n",
    "# ).get_loader()\n",
    "# test_loader = MNIST_dataset(\n",
    "#     train=False, cuda=cuda\n",
    "# ).get_loader()"
   ]
  },
  {
   "cell_type": "code",
   "execution_count": 6,
   "id": "7a616ae4-becb-4859-b2d2-46e9c63fe697",
   "metadata": {},
   "outputs": [],
   "source": [
    "# show_random_images(train_loader)"
   ]
  },
  {
   "cell_type": "markdown",
   "id": "defd5cb1-16ee-4f7f-8ffa-ed135ee4af6f",
   "metadata": {},
   "source": [
    "## Load Model"
   ]
  },
  {
   "cell_type": "code",
   "execution_count": 8,
   "id": "cacbf6ff-4e13-428b-9325-6c9ac470433c",
   "metadata": {},
   "outputs": [
    {
     "name": "stdout",
     "output_type": "stream",
     "text": [
      "----------------------------------------------------------------\n",
      "        Layer (type)               Output Shape         Param #\n",
      "================================================================\n",
      "            Conv2d-1            [-1, 6, 26, 26]              54\n",
      "              ReLU-2            [-1, 6, 26, 26]               0\n",
      "           Dropout-3            [-1, 6, 26, 26]               0\n",
      "       BatchNorm2d-4            [-1, 6, 26, 26]              12\n",
      "            Conv2d-5           [-1, 12, 24, 24]             648\n",
      "              ReLU-6           [-1, 12, 24, 24]               0\n",
      "           Dropout-7           [-1, 12, 24, 24]               0\n",
      "       BatchNorm2d-8           [-1, 12, 24, 24]              24\n",
      "            Conv2d-9            [-1, 7, 24, 24]              84\n",
      "        MaxPool2d-10            [-1, 7, 12, 12]               0\n",
      "           Conv2d-11           [-1, 16, 10, 10]           1,008\n",
      "             ReLU-12           [-1, 16, 10, 10]               0\n",
      "          Dropout-13           [-1, 16, 10, 10]               0\n",
      "      BatchNorm2d-14           [-1, 16, 10, 10]              32\n",
      "           Conv2d-15             [-1, 16, 8, 8]           2,304\n",
      "             ReLU-16             [-1, 16, 8, 8]               0\n",
      "          Dropout-17             [-1, 16, 8, 8]               0\n",
      "      BatchNorm2d-18             [-1, 16, 8, 8]              32\n",
      "           Conv2d-19             [-1, 18, 6, 6]           2,592\n",
      "             ReLU-20             [-1, 18, 6, 6]               0\n",
      "          Dropout-21             [-1, 18, 6, 6]               0\n",
      "      BatchNorm2d-22             [-1, 18, 6, 6]              36\n",
      "           Conv2d-23             [-1, 18, 6, 6]           2,916\n",
      "             ReLU-24             [-1, 18, 6, 6]               0\n",
      "          Dropout-25             [-1, 18, 6, 6]               0\n",
      "      BatchNorm2d-26             [-1, 18, 6, 6]              36\n",
      "        AvgPool2d-27             [-1, 18, 1, 1]               0\n",
      "           Conv2d-28             [-1, 10, 1, 1]             180\n",
      "================================================================\n",
      "Total params: 9,958\n",
      "Trainable params: 9,958\n",
      "Non-trainable params: 0\n",
      "----------------------------------------------------------------\n",
      "Input size (MB): 0.00\n",
      "Forward/backward pass size (MB): 0.49\n",
      "Params size (MB): 0.04\n",
      "Estimated Total Size (MB): 0.53\n",
      "----------------------------------------------------------------\n"
     ]
    }
   ],
   "source": [
    "net = Net(dropout_value=0.05, BN=True).to(device)\n",
    "show_model_summary(net)"
   ]
  },
  {
   "cell_type": "code",
   "execution_count": null,
   "id": "4e136a19-49dd-4bea-bd3b-085bb51c6835",
   "metadata": {},
   "outputs": [],
   "source": []
  },
  {
   "cell_type": "markdown",
   "id": "3e1d70d1-1969-4b29-a3b8-a24f47bf07b5",
   "metadata": {},
   "source": [
    "## Training"
   ]
  },
  {
   "cell_type": "code",
   "execution_count": 9,
   "id": "ffe20e90-53f7-49ca-aa53-d60f25899d1d",
   "metadata": {},
   "outputs": [],
   "source": [
    "L1 = False\n",
    "L2 = False\n",
    "weight_decay = 1e-5 if L2 else 0\n",
    "\n",
    "optimizer = optim.SGD(\n",
    "    net.parameters(), \n",
    "    lr=0.020, momentum=0.9, \n",
    "    weight_decay=weight_decay\n",
    ")\n",
    "lr_scheduler = ReduceLROnPlateau(\n",
    "    optimizer, mode='min', factor=0.5, \n",
    "    patience=2, min_lr=0.001, verbose=True\n",
    ")"
   ]
  },
  {
   "cell_type": "code",
   "execution_count": null,
   "id": "7d589484-9abf-4a4f-9a2a-d8180cf16aac",
   "metadata": {},
   "outputs": [],
   "source": []
  },
  {
   "cell_type": "code",
   "execution_count": null,
   "id": "afb2544c-b226-46f4-92b8-5ca3a7d74113",
   "metadata": {},
   "outputs": [],
   "source": [
    "## training loop \n",
    "train_loss_batch, train_acc_batch = train(\n",
    "    net, device, \n",
    "    train_loader, \n",
    "    optimizer, \n",
    "    lr_scheduler,\n",
    "    L1=L1\n",
    ")\n",
    "train_acc = np.mean(train_acc_batch)\n",
    "train_loss = np.mean(train_loss_batch)\n",
    "\n",
    "test_loss, test_acc = test(\n",
    "    net, device, \n",
    "    test_loader,\n",
    "    lr_scheduler\n",
    ")"
   ]
  }
 ],
 "metadata": {
  "kernelspec": {
   "display_name": "Python 3",
   "language": "python",
   "name": "python3"
  },
  "language_info": {
   "codemirror_mode": {
    "name": "ipython",
    "version": 3
   },
   "file_extension": ".py",
   "mimetype": "text/x-python",
   "name": "python",
   "nbconvert_exporter": "python",
   "pygments_lexer": "ipython3",
   "version": "3.8.2"
  }
 },
 "nbformat": 4,
 "nbformat_minor": 5
}
